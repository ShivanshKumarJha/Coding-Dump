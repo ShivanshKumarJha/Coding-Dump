{
 "cells": [
  {
   "cell_type": "code",
   "execution_count": 2,
   "id": "initial_id",
   "metadata": {
    "ExecuteTime": {
     "end_time": "2024-12-17T08:42:06.858051Z",
     "start_time": "2024-12-17T08:42:06.837359Z"
    },
    "collapsed": true
   },
   "outputs": [
    {
     "data": {
      "text/plain": [
       "[1, 2, 3]"
      ]
     },
     "execution_count": 2,
     "metadata": {},
     "output_type": "execute_result"
    }
   ],
   "source": [
    "li = [[1,2,3],[4,5,6],[7,8,9]]\n",
    "li[0]"
   ]
  },
  {
   "cell_type": "code",
   "execution_count": 2,
   "id": "6d1b59234bf9be29",
   "metadata": {
    "ExecuteTime": {
     "end_time": "2024-12-17T08:38:59.930431Z",
     "start_time": "2024-12-17T08:38:59.917653Z"
    }
   },
   "outputs": [
    {
     "data": {
      "text/plain": [
       "list"
      ]
     },
     "execution_count": 2,
     "metadata": {},
     "output_type": "execute_result"
    }
   ],
   "source": [
    "type(li)"
   ]
  },
  {
   "cell_type": "code",
   "execution_count": 3,
   "id": "243e18e01f7f22be",
   "metadata": {
    "ExecuteTime": {
     "end_time": "2024-12-17T08:39:09.510183Z",
     "start_time": "2024-12-17T08:39:09.497911Z"
    }
   },
   "outputs": [
    {
     "data": {
      "text/plain": [
       "list"
      ]
     },
     "execution_count": 3,
     "metadata": {},
     "output_type": "execute_result"
    }
   ],
   "source": [
    "type(li[0])"
   ]
  },
  {
   "cell_type": "code",
   "execution_count": 3,
   "id": "a9901ef439069f6f",
   "metadata": {
    "ExecuteTime": {
     "end_time": "2024-12-17T08:42:11.970902Z",
     "start_time": "2024-12-17T08:42:11.960590Z"
    }
   },
   "outputs": [],
   "source": [
    "li[0][2] = 4"
   ]
  },
  {
   "cell_type": "code",
   "execution_count": 4,
   "id": "3901d6dfd2c35773",
   "metadata": {
    "ExecuteTime": {
     "end_time": "2024-12-17T08:42:21.453598Z",
     "start_time": "2024-12-17T08:42:21.438762Z"
    }
   },
   "outputs": [
    {
     "name": "stdout",
     "output_type": "stream",
     "text": [
      "[[1, 2, 4], [4, 5, 6], [7, 8, 9]]\n"
     ]
    }
   ],
   "source": [
    "print(li)"
   ]
  },
  {
   "cell_type": "code",
   "execution_count": 5,
   "id": "470f8dba0ff89dc6",
   "metadata": {
    "ExecuteTime": {
     "end_time": "2024-12-17T08:48:52.722073Z",
     "start_time": "2024-12-17T08:48:52.709085Z"
    }
   },
   "outputs": [
    {
     "data": {
      "text/plain": [
       "2704239814208"
      ]
     },
     "execution_count": 5,
     "metadata": {},
     "output_type": "execute_result"
    }
   ],
   "source": [
    "id(li)"
   ]
  },
  {
   "cell_type": "code",
   "execution_count": 6,
   "id": "f556eda388718113",
   "metadata": {
    "ExecuteTime": {
     "end_time": "2024-12-17T08:49:11.065487Z",
     "start_time": "2024-12-17T08:49:11.052302Z"
    }
   },
   "outputs": [
    {
     "data": {
      "text/plain": [
       "2704241324480"
      ]
     },
     "execution_count": 6,
     "metadata": {},
     "output_type": "execute_result"
    }
   ],
   "source": [
    "id(li[0])"
   ]
  },
  {
   "cell_type": "code",
   "execution_count": 7,
   "id": "345b55d3fcc36a3c",
   "metadata": {
    "ExecuteTime": {
     "end_time": "2024-12-17T08:50:40.830623Z",
     "start_time": "2024-12-17T08:50:40.818706Z"
    }
   },
   "outputs": [],
   "source": [
    "li = [[1,2,3,4],[5,6,7],[8,9],[10]]"
   ]
  },
  {
   "cell_type": "code",
   "execution_count": 8,
   "id": "12c29fa3fa1d0459",
   "metadata": {
    "ExecuteTime": {
     "end_time": "2024-12-17T08:51:09.260370Z",
     "start_time": "2024-12-17T08:51:09.245419Z"
    }
   },
   "outputs": [
    {
     "name": "stdout",
     "output_type": "stream",
     "text": [
      "[[1, 2, 3, 4], [5, 6, 7], [8, 9], [10]]\n"
     ]
    }
   ],
   "source": [
    "print(li)"
   ]
  },
  {
   "cell_type": "code",
   "execution_count": 11,
   "id": "2edfadbb50017dce",
   "metadata": {
    "ExecuteTime": {
     "end_time": "2024-12-17T08:59:32.481998Z",
     "start_time": "2024-12-17T08:59:10.078067Z"
    }
   },
   "outputs": [],
   "source": [
    "# Input of 2d lists\n",
    "str = input().split()\n",
    "n,m = int(str[0]),int(str[1])\n",
    "li = [[int(j) for j in input().split()] for i in range(n)]"
   ]
  },
  {
   "cell_type": "code",
   "execution_count": 12,
   "id": "46050b675dc15501",
   "metadata": {
    "ExecuteTime": {
     "end_time": "2024-12-17T08:59:36.606748Z",
     "start_time": "2024-12-17T08:59:36.597705Z"
    }
   },
   "outputs": [
    {
     "name": "stdout",
     "output_type": "stream",
     "text": [
      "[[1, 2, 3, 4], [5, 6, 7, 8], [9, 10, 11, 12]]\n"
     ]
    }
   ],
   "source": [
    "print(li)"
   ]
  },
  {
   "cell_type": "code",
   "execution_count": 13,
   "id": "2c5a76b6f4f964fb",
   "metadata": {
    "ExecuteTime": {
     "end_time": "2024-12-17T09:06:46.252548Z",
     "start_time": "2024-12-17T09:06:30.427276Z"
    }
   },
   "outputs": [],
   "source": [
    "# 2nd method to take input of 2d lists\n",
    "str = input().split()\n",
    "n,m = int(str[0]),int(str[1])\n",
    "b = input().split()\n",
    "arr = [[b[m*i+j] for j in range(m)] for i in range(n)]"
   ]
  },
  {
   "cell_type": "code",
   "execution_count": 14,
   "id": "6bc69553ba027cd2",
   "metadata": {
    "ExecuteTime": {
     "end_time": "2024-12-17T09:06:52.281120Z",
     "start_time": "2024-12-17T09:06:52.267048Z"
    }
   },
   "outputs": [
    {
     "data": {
      "text/plain": [
       "[['1', '2', '3', '4'], ['5', '6', '7', '8'], ['9', '10', '11', '12']]"
      ]
     },
     "execution_count": 14,
     "metadata": {},
     "output_type": "execute_result"
    }
   ],
   "source": [
    "arr"
   ]
  },
  {
   "cell_type": "code",
   "execution_count": 15,
   "id": "5f66a529f25c51ba",
   "metadata": {
    "ExecuteTime": {
     "end_time": "2024-12-17T09:08:32.726658Z",
     "start_time": "2024-12-17T09:08:24.818302Z"
    }
   },
   "outputs": [],
   "source": [
    "str = input().split()\n",
    "n,m = int(str[0]),int(str[1])\n",
    "b = str[2:]\n",
    "arr = [[b[m*i+j] for j in range(m)] for i in range(n)]"
   ]
  },
  {
   "cell_type": "code",
   "execution_count": 16,
   "id": "4c9866917a6c4b0a",
   "metadata": {
    "ExecuteTime": {
     "end_time": "2024-12-17T09:08:36.589815Z",
     "start_time": "2024-12-17T09:08:36.575910Z"
    }
   },
   "outputs": [
    {
     "data": {
      "text/plain": [
       "[['1', '2', '3'], ['4', '5', '6']]"
      ]
     },
     "execution_count": 16,
     "metadata": {},
     "output_type": "execute_result"
    }
   ],
   "source": [
    "arr"
   ]
  },
  {
   "cell_type": "code",
   "execution_count": 35,
   "id": "5cda73f104623688",
   "metadata": {
    "ExecuteTime": {
     "end_time": "2024-12-17T09:51:44.447305Z",
     "start_time": "2024-12-17T09:51:44.436625Z"
    }
   },
   "outputs": [],
   "source": [
    "li = [[1,2,3,4],[5,6,7,8],[9,10,11,12]]\n",
    "n = 3\n",
    "m = 4"
   ]
  },
  {
   "cell_type": "code",
   "execution_count": 19,
   "id": "a60a841bb1170c5b",
   "metadata": {
    "ExecuteTime": {
     "end_time": "2024-12-17T09:25:41.453958Z",
     "start_time": "2024-12-17T09:25:41.442466Z"
    }
   },
   "outputs": [
    {
     "name": "stdout",
     "output_type": "stream",
     "text": [
      "1 2 3 4 \n",
      "5 6 7 8 \n",
      "9 10 11 12 \n"
     ]
    }
   ],
   "source": [
    "for i in range(n):\n",
    "    for j in range(m):\n",
    "        print(li[i][j],end=\" \")\n",
    "    print()"
   ]
  },
  {
   "cell_type": "code",
   "execution_count": 30,
   "id": "9290fafc97e9fdfa",
   "metadata": {
    "ExecuteTime": {
     "end_time": "2024-12-17T09:50:44.499947Z",
     "start_time": "2024-12-17T09:50:44.485367Z"
    }
   },
   "outputs": [
    {
     "name": "stdout",
     "output_type": "stream",
     "text": [
      "1 2 3 4 \n",
      "5 6 7 8 \n",
      "9 10 11 12 \n"
     ]
    }
   ],
   "source": [
    "for row in li:\n",
    "    for ele in row:\n",
    "        print(ele,end=\" \")\n",
    "    print()"
   ]
  },
  {
   "cell_type": "code",
   "execution_count": 1,
   "id": "2116b48cac64470d",
   "metadata": {
    "ExecuteTime": {
     "end_time": "2024-12-18T10:21:46.573513Z",
     "start_time": "2024-12-18T10:21:46.560253Z"
    }
   },
   "outputs": [
    {
     "name": "stdout",
     "output_type": "stream",
     "text": [
      "[[1, 2, 3, 4], [5, 6, 7, 8], [9, 10, 11, 12]]\n",
      "1 2 3 4\n",
      "5 6 7 8\n",
      "9 10 11 12\n"
     ]
    }
   ],
   "source": [
    "li = [[1,2,3,4],[5,6,7,8],[9,10,11,12]]\n",
    "print(li)\n",
    "for row in li:\n",
    "    output = ' '.join([str(ele) for ele in row])\n",
    "    print(output)"
   ]
  }
 ],
 "metadata": {
  "kernelspec": {
   "display_name": "Python 3",
   "language": "python",
   "name": "python3"
  },
  "language_info": {
   "codemirror_mode": {
    "name": "ipython",
    "version": 2
   },
   "file_extension": ".py",
   "mimetype": "text/x-python",
   "name": "python",
   "nbconvert_exporter": "python",
   "pygments_lexer": "ipython2",
   "version": "2.7.6"
  }
 },
 "nbformat": 4,
 "nbformat_minor": 5
}
