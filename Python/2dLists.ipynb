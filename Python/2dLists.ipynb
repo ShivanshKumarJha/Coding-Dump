{
 "cells": [
  {
   "cell_type": "code",
   "id": "initial_id",
   "metadata": {
    "collapsed": true,
    "ExecuteTime": {
     "end_time": "2024-12-17T08:42:06.858051Z",
     "start_time": "2024-12-17T08:42:06.837359Z"
    }
   },
   "source": [
    "li = [[1,2,3],[4,5,6],[7,8,9]]\n",
    "li[0]"
   ],
   "outputs": [
    {
     "data": {
      "text/plain": [
       "[1, 2, 3]"
      ]
     },
     "execution_count": 2,
     "metadata": {},
     "output_type": "execute_result"
    }
   ],
   "execution_count": 2
  },
  {
   "metadata": {
    "ExecuteTime": {
     "end_time": "2024-12-17T08:38:59.930431Z",
     "start_time": "2024-12-17T08:38:59.917653Z"
    }
   },
   "cell_type": "code",
   "source": "type(li)",
   "id": "6d1b59234bf9be29",
   "outputs": [
    {
     "data": {
      "text/plain": [
       "list"
      ]
     },
     "execution_count": 2,
     "metadata": {},
     "output_type": "execute_result"
    }
   ],
   "execution_count": 2
  },
  {
   "metadata": {
    "ExecuteTime": {
     "end_time": "2024-12-17T08:39:09.510183Z",
     "start_time": "2024-12-17T08:39:09.497911Z"
    }
   },
   "cell_type": "code",
   "source": "type(li[0])",
   "id": "243e18e01f7f22be",
   "outputs": [
    {
     "data": {
      "text/plain": [
       "list"
      ]
     },
     "execution_count": 3,
     "metadata": {},
     "output_type": "execute_result"
    }
   ],
   "execution_count": 3
  },
  {
   "metadata": {
    "ExecuteTime": {
     "end_time": "2024-12-17T08:42:11.970902Z",
     "start_time": "2024-12-17T08:42:11.960590Z"
    }
   },
   "cell_type": "code",
   "source": "li[0][2] = 4",
   "id": "a9901ef439069f6f",
   "outputs": [],
   "execution_count": 3
  },
  {
   "metadata": {
    "ExecuteTime": {
     "end_time": "2024-12-17T08:42:21.453598Z",
     "start_time": "2024-12-17T08:42:21.438762Z"
    }
   },
   "cell_type": "code",
   "source": "print(li)",
   "id": "3901d6dfd2c35773",
   "outputs": [
    {
     "name": "stdout",
     "output_type": "stream",
     "text": [
      "[[1, 2, 4], [4, 5, 6], [7, 8, 9]]\n"
     ]
    }
   ],
   "execution_count": 4
  },
  {
   "metadata": {
    "ExecuteTime": {
     "end_time": "2024-12-17T08:48:52.722073Z",
     "start_time": "2024-12-17T08:48:52.709085Z"
    }
   },
   "cell_type": "code",
   "source": "id(li)",
   "id": "470f8dba0ff89dc6",
   "outputs": [
    {
     "data": {
      "text/plain": [
       "2704239814208"
      ]
     },
     "execution_count": 5,
     "metadata": {},
     "output_type": "execute_result"
    }
   ],
   "execution_count": 5
  },
  {
   "metadata": {
    "ExecuteTime": {
     "end_time": "2024-12-17T08:49:11.065487Z",
     "start_time": "2024-12-17T08:49:11.052302Z"
    }
   },
   "cell_type": "code",
   "source": "id(li[0])",
   "id": "f556eda388718113",
   "outputs": [
    {
     "data": {
      "text/plain": [
       "2704241324480"
      ]
     },
     "execution_count": 6,
     "metadata": {},
     "output_type": "execute_result"
    }
   ],
   "execution_count": 6
  },
  {
   "metadata": {
    "ExecuteTime": {
     "end_time": "2024-12-17T08:50:40.830623Z",
     "start_time": "2024-12-17T08:50:40.818706Z"
    }
   },
   "cell_type": "code",
   "source": "li = [[1,2,3,4],[5,6,7],[8,9],[10]]",
   "id": "345b55d3fcc36a3c",
   "outputs": [],
   "execution_count": 7
  },
  {
   "metadata": {
    "ExecuteTime": {
     "end_time": "2024-12-17T08:51:09.260370Z",
     "start_time": "2024-12-17T08:51:09.245419Z"
    }
   },
   "cell_type": "code",
   "source": "print(li)",
   "id": "12c29fa3fa1d0459",
   "outputs": [
    {
     "name": "stdout",
     "output_type": "stream",
     "text": [
      "[[1, 2, 3, 4], [5, 6, 7], [8, 9], [10]]\n"
     ]
    }
   ],
   "execution_count": 8
  },
  {
   "metadata": {
    "ExecuteTime": {
     "end_time": "2024-12-17T08:59:32.481998Z",
     "start_time": "2024-12-17T08:59:10.078067Z"
    }
   },
   "cell_type": "code",
   "source": [
    "# Input of 2d lists\n",
    "str = input().split()\n",
    "n,m = int(str[0]),int(str[1])\n",
    "li = [[int(j) for j in input().split()] for i in range(n)]"
   ],
   "id": "2edfadbb50017dce",
   "outputs": [],
   "execution_count": 11
  },
  {
   "metadata": {
    "ExecuteTime": {
     "end_time": "2024-12-17T08:59:36.606748Z",
     "start_time": "2024-12-17T08:59:36.597705Z"
    }
   },
   "cell_type": "code",
   "source": "print(li)",
   "id": "46050b675dc15501",
   "outputs": [
    {
     "name": "stdout",
     "output_type": "stream",
     "text": [
      "[[1, 2, 3, 4], [5, 6, 7, 8], [9, 10, 11, 12]]\n"
     ]
    }
   ],
   "execution_count": 12
  },
  {
   "metadata": {
    "ExecuteTime": {
     "end_time": "2024-12-17T09:06:46.252548Z",
     "start_time": "2024-12-17T09:06:30.427276Z"
    }
   },
   "cell_type": "code",
   "source": [
    "# 2nd method to take input of 2d lists\n",
    "str = input().split()\n",
    "n,m = int(str[0]),int(str[1])\n",
    "b = input().split()\n",
    "arr = [[b[m*i+j] for j in range(m)] for i in range(n)]"
   ],
   "id": "2c5a76b6f4f964fb",
   "outputs": [],
   "execution_count": 13
  },
  {
   "metadata": {
    "ExecuteTime": {
     "end_time": "2024-12-17T09:06:52.281120Z",
     "start_time": "2024-12-17T09:06:52.267048Z"
    }
   },
   "cell_type": "code",
   "source": "arr",
   "id": "6bc69553ba027cd2",
   "outputs": [
    {
     "data": {
      "text/plain": [
       "[['1', '2', '3', '4'], ['5', '6', '7', '8'], ['9', '10', '11', '12']]"
      ]
     },
     "execution_count": 14,
     "metadata": {},
     "output_type": "execute_result"
    }
   ],
   "execution_count": 14
  },
  {
   "metadata": {
    "ExecuteTime": {
     "end_time": "2024-12-17T09:08:32.726658Z",
     "start_time": "2024-12-17T09:08:24.818302Z"
    }
   },
   "cell_type": "code",
   "source": [
    "str = input().split()\n",
    "n,m = int(str[0]),int(str[1])\n",
    "b = str[2:]\n",
    "arr = [[b[m*i+j] for j in range(m)] for i in range(n)]"
   ],
   "id": "5f66a529f25c51ba",
   "outputs": [],
   "execution_count": 15
  },
  {
   "metadata": {
    "ExecuteTime": {
     "end_time": "2024-12-17T09:08:36.589815Z",
     "start_time": "2024-12-17T09:08:36.575910Z"
    }
   },
   "cell_type": "code",
   "source": "arr",
   "id": "4c9866917a6c4b0a",
   "outputs": [
    {
     "data": {
      "text/plain": [
       "[['1', '2', '3'], ['4', '5', '6']]"
      ]
     },
     "execution_count": 16,
     "metadata": {},
     "output_type": "execute_result"
    }
   ],
   "execution_count": 16
  },
  {
   "metadata": {
    "ExecuteTime": {
     "end_time": "2024-12-17T09:51:44.447305Z",
     "start_time": "2024-12-17T09:51:44.436625Z"
    }
   },
   "cell_type": "code",
   "source": [
    "li = [[1,2,3,4],[5,6,7,8],[9,10,11,12]]\n",
    "n = 3\n",
    "m = 4"
   ],
   "id": "5cda73f104623688",
   "outputs": [],
   "execution_count": 35
  },
  {
   "metadata": {
    "ExecuteTime": {
     "end_time": "2024-12-17T09:25:41.453958Z",
     "start_time": "2024-12-17T09:25:41.442466Z"
    }
   },
   "cell_type": "code",
   "source": [
    "for i in range(n):\n",
    "    for j in range(m):\n",
    "        print(li[i][j],end=\" \")\n",
    "    print()"
   ],
   "id": "a60a841bb1170c5b",
   "outputs": [
    {
     "name": "stdout",
     "output_type": "stream",
     "text": [
      "1 2 3 4 \n",
      "5 6 7 8 \n",
      "9 10 11 12 \n"
     ]
    }
   ],
   "execution_count": 19
  },
  {
   "metadata": {
    "ExecuteTime": {
     "end_time": "2024-12-17T09:50:44.499947Z",
     "start_time": "2024-12-17T09:50:44.485367Z"
    }
   },
   "cell_type": "code",
   "source": [
    "for row in li:\n",
    "    for ele in row:\n",
    "        print(ele,end=\" \")\n",
    "    print()"
   ],
   "id": "9290fafc97e9fdfa",
   "outputs": [
    {
     "name": "stdout",
     "output_type": "stream",
     "text": [
      "1 2 3 4 \n",
      "5 6 7 8 \n",
      "9 10 11 12 \n"
     ]
    }
   ],
   "execution_count": 30
  },
  {
   "metadata": {
    "ExecuteTime": {
     "end_time": "2024-12-17T09:54:22.380270Z",
     "start_time": "2024-12-17T09:54:22.363211Z"
    }
   },
   "cell_type": "code",
   "source": [
    "li = [[1,2,3,4],[5,6,7,8],[9,10,11,12]]\n",
    "print(li)\n",
    "for row in li:\n",
    "    output = ' '.join([str(ele) for ele in row])\n",
    "    print(output)"
   ],
   "id": "2116b48cac64470d",
   "outputs": [
    {
     "name": "stdout",
     "output_type": "stream",
     "text": [
      "[[1, 2, 3, 4], [5, 6, 7, 8], [9, 10, 11, 12]]\n",
      "1 2 3 4\n",
      "5 6 7 8\n",
      "9 10 11 12\n"
     ]
    }
   ],
   "execution_count": 1
  },
  {
   "metadata": {},
   "cell_type": "code",
   "outputs": [],
   "execution_count": null,
   "source": "",
   "id": "1568e211befe6be8"
  }
 ],
 "metadata": {
  "kernelspec": {
   "display_name": "Python 3",
   "language": "python",
   "name": "python3"
  },
  "language_info": {
   "codemirror_mode": {
    "name": "ipython",
    "version": 2
   },
   "file_extension": ".py",
   "mimetype": "text/x-python",
   "name": "python",
   "nbconvert_exporter": "python",
   "pygments_lexer": "ipython2",
   "version": "2.7.6"
  }
 },
 "nbformat": 4,
 "nbformat_minor": 5
}
